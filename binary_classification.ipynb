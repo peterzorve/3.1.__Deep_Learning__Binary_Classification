{
 "cells": [
  {
   "attachments": {},
   "cell_type": "markdown",
   "metadata": {},
   "source": [
    "## Import the libraries"
   ]
  },
  {
   "cell_type": "code",
   "execution_count": 32,
   "metadata": {},
   "outputs": [],
   "source": [
    "import torch\n",
    "import torch.nn as nn\n",
    "import numpy as np"
   ]
  },
  {
   "attachments": {},
   "cell_type": "markdown",
   "metadata": {},
   "source": [
    "## Pytorch Examples"
   ]
  },
  {
   "cell_type": "code",
   "execution_count": 33,
   "metadata": {},
   "outputs": [],
   "source": [
    "X = torch.tensor(([2, 9], [1, 5], [3, 6]), dtype=torch.float) # 3 X 2 tensor\n",
    "y = torch.tensor(([92], [100], [89]), dtype=torch.float) # 3 X 1 tensor\n",
    "test_sample = torch.tensor(([4, 8]), dtype=torch.float) # 1 X 2 tensor"
   ]
  },
  {
   "cell_type": "code",
   "execution_count": 34,
   "metadata": {},
   "outputs": [
    {
     "name": "stdout",
     "output_type": "stream",
     "text": [
      "torch.Size([3, 2])\n",
      "torch.Size([3, 1])\n"
     ]
    }
   ],
   "source": [
    "print(X.size())\n",
    "print(y.size())"
   ]
  },
  {
   "attachments": {},
   "cell_type": "markdown",
   "metadata": {},
   "source": [
    "## Numpy to Pytorch"
   ]
  },
  {
   "cell_type": "code",
   "execution_count": 35,
   "metadata": {},
   "outputs": [
    {
     "name": "stdout",
     "output_type": "stream",
     "text": [
      "torch.Size([1000, 10])\n"
     ]
    }
   ],
   "source": [
    "np.random.seed(42)\n",
    "numpy_array = np.array(np.random.rand(1000,10))\n",
    "pytorch_tensor = torch.from_numpy(numpy_array)\n",
    "print(pytorch_tensor.size())"
   ]
  },
  {
   "attachments": {},
   "cell_type": "markdown",
   "metadata": {},
   "source": [
    "## Start Building Models"
   ]
  },
  {
   "cell_type": "code",
   "execution_count": 36,
   "metadata": {},
   "outputs": [],
   "source": [
    "class NeuralNetwork(nn.Module):\n",
    "    def __init__(self ):\n",
    "        super(NeuralNetwork, self).__init__()\n",
    "        pass"
   ]
  },
  {
   "cell_type": "code",
   "execution_count": 37,
   "metadata": {},
   "outputs": [],
   "source": [
    "class NeuralNetwork(nn.Module):\n",
    "    def __init__(self, input_dim, output_dim, num_hidden):\n",
    "        super(NeuralNetwork, self).__init__()\n",
    "        pass"
   ]
  },
  {
   "cell_type": "code",
   "execution_count": 38,
   "metadata": {},
   "outputs": [],
   "source": [
    "class NeuralNetwork(nn.Module):\n",
    "    def __init__(self, input_dim, num_hidden):\n",
    "        super().__init__()\n",
    "        self.linear1 = nn.Linear(input_dim, num_hidden)\n",
    "        self.sigmoid = nn.Sigmoid()\n",
    "        self.linear2 = nn.Linear(num_hidden, 1)"
   ]
  },
  {
   "cell_type": "code",
   "execution_count": 39,
   "metadata": {},
   "outputs": [
    {
     "data": {
      "text/plain": [
       "NeuralNetwork(\n",
       "  (linear1): Linear(in_features=10, out_features=5, bias=True)\n",
       "  (sigmoid): Sigmoid()\n",
       "  (linear2): Linear(in_features=5, out_features=1, bias=True)\n",
       ")"
      ]
     },
     "execution_count": 39,
     "metadata": {},
     "output_type": "execute_result"
    }
   ],
   "source": [
    "net = NeuralNetwork(10, 5)\n",
    "net"
   ]
  },
  {
   "cell_type": "code",
   "execution_count": 40,
   "metadata": {},
   "outputs": [],
   "source": [
    "class NeuralNetwork(nn.Module):\n",
    "    def __init__(self, input_dim, num_hidden):\n",
    "        super().__init__()\n",
    "        self.linear1 = nn.Linear(input_dim, num_hidden)\n",
    "        self.sigmoid = nn.Sigmoid()\n",
    "        self.linear2 = nn.Linear(num_hidden, 1)\n",
    "\n",
    "    def forward(self, x):\n",
    "        l1 = self.linear1(x)\n",
    "        activation = self.sigmoid(l1)\n",
    "        l2 = self.linear2(activation)\n",
    "        output = self.sigmoid(l2)\n",
    "        return output"
   ]
  },
  {
   "cell_type": "code",
   "execution_count": 41,
   "metadata": {},
   "outputs": [],
   "source": [
    "sample = torch.from_numpy(np.array(np.random.rand(10), dtype=np.float32))"
   ]
  },
  {
   "cell_type": "code",
   "execution_count": 42,
   "metadata": {},
   "outputs": [
    {
     "data": {
      "text/plain": [
       "torch.Size([10])"
      ]
     },
     "execution_count": 42,
     "metadata": {},
     "output_type": "execute_result"
    }
   ],
   "source": [
    "sample.size()"
   ]
  },
  {
   "cell_type": "code",
   "execution_count": 43,
   "metadata": {},
   "outputs": [],
   "source": [
    "net = NeuralNetwork(10, 5)"
   ]
  },
  {
   "cell_type": "code",
   "execution_count": 44,
   "metadata": {},
   "outputs": [
    {
     "data": {
      "text/plain": [
       "[Parameter containing:\n",
       " tensor([[ 0.0607, -0.3505, -0.1510, -0.2141,  0.3166]], requires_grad=True),\n",
       " Parameter containing:\n",
       " tensor([-0.1087], requires_grad=True)]"
      ]
     },
     "execution_count": 44,
     "metadata": {},
     "output_type": "execute_result"
    }
   ],
   "source": [
    "list(net.linear2.parameters())"
   ]
  },
  {
   "cell_type": "code",
   "execution_count": 45,
   "metadata": {},
   "outputs": [
    {
     "data": {
      "text/plain": [
       "tensor([0.4365], grad_fn=<SigmoidBackward0>)"
      ]
     },
     "execution_count": 45,
     "metadata": {},
     "output_type": "execute_result"
    }
   ],
   "source": [
    "net.forward(sample)"
   ]
  },
  {
   "cell_type": "code",
   "execution_count": 46,
   "metadata": {},
   "outputs": [],
   "source": [
    "class NeuralNetwork(nn.Module):\n",
    "    def __init__(self, input_dim, num_hidden):\n",
    "        super().__init__()\n",
    "        self.linear1 = nn.Linear(input_dim, num_hidden)\n",
    "        self.sigmoid = nn.Sigmoid()\n",
    "        self.linear2 = nn.Linear(num_hidden, 1)\n",
    "\n",
    "    def forward(self, x):\n",
    "        l1 = self.linear1(x)\n",
    "        activation = self.sigmoid(l1)\n",
    "        l2 = self.linear2(activation)\n",
    "        output = self.sigmoid(l2)\n",
    "        return output\n"
   ]
  },
  {
   "cell_type": "code",
   "execution_count": 47,
   "metadata": {},
   "outputs": [],
   "source": [
    "        \n",
    "\n",
    "#torch_fit(x_tensor, y_true_tensor, model=model, loss=loss, lr=0.1, num_epochs=30)\n",
    "\n",
    "loss = nn.BCELoss()\n",
    "model = NeuralNetwork(10,5)\n",
    "optimizer = torch.optim.Adam(model.parameters(), lr=0.01)\n",
    "\n"
   ]
  },
  {
   "cell_type": "code",
   "execution_count": 48,
   "metadata": {},
   "outputs": [],
   "source": [
    "x = np.random.rand(1000,10)\n",
    "y = np.random.randint(0, 2, 1000)\n",
    "\n",
    "x_tensor = torch.tensor(x).float()\n",
    "y_true_tensor = torch.tensor(y).float()\n",
    "y_true_tensor = y_true_tensor.view(1000, 1) # view function is the same as reshape in numpy\n",
    "\n",
    "y_pred_tensor = model(x_tensor)\n",
    "loss_value = loss(y_pred_tensor, y_true_tensor)"
   ]
  },
  {
   "cell_type": "code",
   "execution_count": 49,
   "metadata": {},
   "outputs": [
    {
     "name": "stdout",
     "output_type": "stream",
     "text": [
      "Initial loss: 0.70\n"
     ]
    }
   ],
   "source": [
    "print(f\"Initial loss: {loss_value.item():.2f}\")"
   ]
  },
  {
   "cell_type": "code",
   "execution_count": 50,
   "metadata": {},
   "outputs": [
    {
     "name": "stdout",
     "output_type": "stream",
     "text": [
      "Epoch 0, loss 0.70\n",
      "Epoch 1, loss 0.69\n",
      "Epoch 2, loss 0.69\n",
      "Epoch 3, loss 0.69\n",
      "Epoch 4, loss 0.69\n",
      "Epoch 5, loss 0.69\n",
      "Epoch 6, loss 0.69\n",
      "Epoch 7, loss 0.69\n",
      "Epoch 8, loss 0.69\n",
      "Epoch 9, loss 0.69\n",
      "Epoch 10, loss 0.69\n",
      "Epoch 11, loss 0.69\n",
      "Epoch 12, loss 0.69\n",
      "Epoch 13, loss 0.69\n",
      "Epoch 14, loss 0.69\n",
      "Epoch 15, loss 0.69\n",
      "Epoch 16, loss 0.69\n",
      "Epoch 17, loss 0.69\n",
      "Epoch 18, loss 0.69\n",
      "Epoch 19, loss 0.69\n",
      "Epoch 20, loss 0.69\n",
      "Epoch 21, loss 0.69\n",
      "Epoch 22, loss 0.69\n",
      "Epoch 23, loss 0.69\n",
      "Epoch 24, loss 0.69\n",
      "Epoch 25, loss 0.69\n",
      "Epoch 26, loss 0.69\n",
      "Epoch 27, loss 0.69\n",
      "Epoch 28, loss 0.69\n",
      "Epoch 29, loss 0.69\n",
      "Epoch 30, loss 0.69\n",
      "Epoch 31, loss 0.69\n",
      "Epoch 32, loss 0.69\n",
      "Epoch 33, loss 0.69\n",
      "Epoch 34, loss 0.69\n",
      "Epoch 35, loss 0.69\n",
      "Epoch 36, loss 0.69\n",
      "Epoch 37, loss 0.69\n",
      "Epoch 38, loss 0.69\n",
      "Epoch 39, loss 0.69\n",
      "Epoch 40, loss 0.69\n",
      "Epoch 41, loss 0.69\n",
      "Epoch 42, loss 0.69\n",
      "Epoch 43, loss 0.69\n",
      "Epoch 44, loss 0.69\n",
      "Epoch 45, loss 0.69\n",
      "Epoch 46, loss 0.69\n",
      "Epoch 47, loss 0.69\n",
      "Epoch 48, loss 0.69\n",
      "Epoch 49, loss 0.69\n",
      "Epoch 50, loss 0.69\n",
      "Epoch 51, loss 0.69\n",
      "Epoch 52, loss 0.69\n",
      "Epoch 53, loss 0.69\n",
      "Epoch 54, loss 0.69\n",
      "Epoch 55, loss 0.69\n",
      "Epoch 56, loss 0.69\n",
      "Epoch 57, loss 0.69\n",
      "Epoch 58, loss 0.69\n",
      "Epoch 59, loss 0.69\n",
      "Epoch 60, loss 0.69\n",
      "Epoch 61, loss 0.69\n",
      "Epoch 62, loss 0.69\n",
      "Epoch 63, loss 0.69\n",
      "Epoch 64, loss 0.69\n",
      "Epoch 65, loss 0.69\n",
      "Epoch 66, loss 0.69\n",
      "Epoch 67, loss 0.69\n",
      "Epoch 68, loss 0.69\n",
      "Epoch 69, loss 0.69\n",
      "Epoch 70, loss 0.69\n",
      "Epoch 71, loss 0.69\n",
      "Epoch 72, loss 0.69\n",
      "Epoch 73, loss 0.69\n",
      "Epoch 74, loss 0.69\n",
      "Epoch 75, loss 0.69\n",
      "Epoch 76, loss 0.69\n",
      "Epoch 77, loss 0.69\n",
      "Epoch 78, loss 0.69\n",
      "Epoch 79, loss 0.69\n",
      "Epoch 80, loss 0.69\n",
      "Epoch 81, loss 0.69\n",
      "Epoch 82, loss 0.69\n",
      "Epoch 83, loss 0.69\n",
      "Epoch 84, loss 0.69\n",
      "Epoch 85, loss 0.69\n",
      "Epoch 86, loss 0.69\n",
      "Epoch 87, loss 0.69\n",
      "Epoch 88, loss 0.69\n",
      "Epoch 89, loss 0.69\n",
      "Epoch 90, loss 0.69\n",
      "Epoch 91, loss 0.69\n",
      "Epoch 92, loss 0.69\n",
      "Epoch 93, loss 0.69\n",
      "Epoch 94, loss 0.69\n",
      "Epoch 95, loss 0.69\n",
      "Epoch 96, loss 0.69\n",
      "Epoch 97, loss 0.69\n",
      "Epoch 98, loss 0.69\n",
      "Epoch 99, loss 0.69\n"
     ]
    }
   ],
   "source": [
    "def torch_fit(x, y, model, loss, lr, num_epochs):\n",
    "    optimizer = torch.optim.Adam(model.parameters(), lr=0.01)   # adam by default and by use case has turned out to be one of the better optimizers  \n",
    "    for epoch in range(num_epochs):\n",
    "        optimizer.zero_grad()                                   # to reset the weights and biases before backpropagation as torch already accumulates them during training otherwise \n",
    "                                                                # it will keep accumulating the gradients\n",
    "                                                                # therefor we need to reset the gradients before each step\n",
    "        y_pred_tensor = model(x_tensor)\n",
    "        loss_value = loss(y_pred_tensor, y_true_tensor)\n",
    "        print(f'Epoch {epoch}, loss {loss_value.item():.2f}')\n",
    "        loss_value.backward()                                   # computes the derivative of the loss w.r.t. the parameters (or anything requiring gradients) using backpropagation.\n",
    "        optimizer.step()                                        # causes the optimizer to take a step based on the gradients of the parameters.\n",
    "    return model\n",
    "\n",
    "model = torch_fit(x_tensor, y_true_tensor, model=model, loss=loss, lr=0.1, num_epochs=100)"
   ]
  }
 ],
 "metadata": {
  "kernelspec": {
   "display_name": "deeplearning",
   "language": "python",
   "name": "python3"
  },
  "language_info": {
   "codemirror_mode": {
    "name": "ipython",
    "version": 3
   },
   "file_extension": ".py",
   "mimetype": "text/x-python",
   "name": "python",
   "nbconvert_exporter": "python",
   "pygments_lexer": "ipython3",
   "version": "3.8.13"
  },
  "orig_nbformat": 4
 },
 "nbformat": 4,
 "nbformat_minor": 2
}
