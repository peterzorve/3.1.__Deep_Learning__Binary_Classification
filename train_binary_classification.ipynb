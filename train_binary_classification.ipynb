{
 "cells": [
  {
   "attachments": {},
   "cell_type": "markdown",
   "metadata": {},
   "source": [
    "## Import Libraries"
   ]
  },
  {
   "cell_type": "code",
   "execution_count": 1,
   "metadata": {},
   "outputs": [],
   "source": [
    "from turtle import forward\n",
    "import torch \n",
    "import torch.nn as nn \n",
    "import numpy as np \n",
    "import pandas as pd \n",
    "from sklearn.model_selection import train_test_split as tts \n",
    "import matplotlib.pyplot as plt "
   ]
  },
  {
   "attachments": {},
   "cell_type": "markdown",
   "metadata": {},
   "source": [
    "## Read Data "
   ]
  },
  {
   "cell_type": "code",
   "execution_count": 2,
   "metadata": {},
   "outputs": [],
   "source": [
    "data = pd.read_csv('data/data.csv')\n",
    "data.columns = ['feature1', 'feature2', 'target']\n",
    "\n",
    "X = torch.from_numpy(data[['feature1', 'feature2']].values).float() \n",
    "y = torch.from_numpy(data[['target']].values).float()"
   ]
  },
  {
   "attachments": {},
   "cell_type": "markdown",
   "metadata": {},
   "source": [
    "## Split the Data"
   ]
  },
  {
   "cell_type": "code",
   "execution_count": 3,
   "metadata": {},
   "outputs": [
    {
     "name": "stdout",
     "output_type": "stream",
     "text": [
      "<class 'torch.Tensor'> <class 'torch.Tensor'>\n",
      "tensor([[0.4964, 0.4538],\n",
      "        [0.3106, 0.5070],\n",
      "        [0.4222, 0.6167],\n",
      "        [0.5384, 0.3277],\n",
      "        [0.2877, 0.2914],\n",
      "        [0.4028, 0.0351],\n",
      "        [0.6991, 0.3731],\n",
      "        [0.7144, 0.7668],\n",
      "        [0.8528, 0.8599],\n",
      "        [0.8964, 0.7085],\n",
      "        [0.3975, 0.3190],\n",
      "        [0.8518, 0.6612],\n",
      "        [0.7614, 0.6014],\n",
      "        [0.6738, 0.7797],\n",
      "        [0.5893, 0.7158],\n",
      "        [0.2753, 0.3322],\n",
      "        [0.1643, 0.2776],\n",
      "        [0.5092, 0.3526],\n",
      "        [0.7897, 0.7423],\n",
      "        [0.7703, 0.7014],\n",
      "        [0.4455, 0.4512],\n",
      "        [0.2564, 0.4262],\n",
      "        [0.6591, 0.7155],\n",
      "        [0.5453, 0.6391],\n",
      "        [0.7299, 0.8107],\n",
      "        [0.7323, 0.6424],\n",
      "        [0.2763, 0.2126],\n",
      "        [0.7906, 0.5611],\n",
      "        [0.7076, 0.7602],\n",
      "        [0.6209, 0.8042],\n",
      "        [0.7315, 0.7452],\n",
      "        [0.2548, 0.3460],\n",
      "        [0.3815, 0.4622],\n",
      "        [0.5191, 0.6236],\n",
      "        [0.7998, 0.7485],\n",
      "        [0.4583, 0.4641],\n",
      "        [0.1525, 0.2168],\n",
      "        [0.7316, 0.7178],\n",
      "        [0.7088, 0.9676],\n",
      "        [0.6791, 0.6092],\n",
      "        [0.5374, 0.2864],\n",
      "        [0.4591, 0.4043],\n",
      "        [0.3215, 0.1201],\n",
      "        [0.3326, 0.0560],\n",
      "        [0.6457, 0.5684],\n",
      "        [0.4956, 0.2145],\n",
      "        [0.3710, 0.3881],\n",
      "        [0.7940, 0.5679],\n",
      "        [0.4071, 0.1788],\n",
      "        [0.5915, 0.6293],\n",
      "        [0.6642, 0.7252],\n",
      "        [0.4427, 0.5921],\n",
      "        [0.5899, 0.8695],\n",
      "        [0.4456, 0.5799],\n",
      "        [0.6905, 0.8306],\n",
      "        [0.1019, 0.0604],\n",
      "        [0.6044, 0.8661],\n",
      "        [0.3356, 0.4298],\n",
      "        [0.6824, 0.4830],\n",
      "        [0.6641, 0.9208],\n",
      "        [0.4849, 0.2607],\n",
      "        [0.5942, 0.6186],\n",
      "        [0.7771, 0.3503],\n",
      "        [0.2345, 0.2499],\n",
      "        [0.3085, 0.2431],\n",
      "        [0.1242, 0.3359],\n",
      "        [0.2849, 0.5214],\n",
      "        [0.3295, 0.3922],\n",
      "        [0.1007, 0.3205]])\n",
      "   feature1  feature2  target\n",
      "0   0.28774   0.29139       1\n",
      "1   0.40714   0.17878       1\n",
      "2   0.29230   0.42170       1\n",
      "3   0.50922   0.35256       1\n",
      "69 69\n",
      "30 30\n"
     ]
    }
   ],
   "source": [
    "x_train, x_test, y_train, y_test = tts(X, y, train_size=0.7, random_state=73)\n",
    "\n",
    "print(type(x_train), type(y_train))\n",
    "print(x_train)\n",
    "print(data.head(4)) \n",
    "print(len(x_train), len(y_train))\n",
    "print(len(x_test), len(y_test))"
   ]
  },
  {
   "attachments": {},
   "cell_type": "markdown",
   "metadata": {},
   "source": [
    "## Create Model"
   ]
  },
  {
   "cell_type": "code",
   "execution_count": 4,
   "metadata": {},
   "outputs": [],
   "source": [
    "class NeuralModel(nn.Module):\n",
    "    def __init__(self, input, hidden1, hidden2, hidden3, output):\n",
    "        super(NeuralModel, self).__init__()\n",
    "\n",
    "        self.first_layer    = nn.Linear(input, hidden1)\n",
    "        self.second_hidden  = nn.Linear(hidden1, hidden2)\n",
    "        self.third_hidden   = nn.Linear(hidden2, hidden3)\n",
    "        self.output         = nn.Linear(hidden3, output)\n",
    "\n",
    "        self.sigmoid    = nn.Sigmoid()\n",
    "        self.relu       = nn.ReLU()\n",
    "        self.softmax    = nn.Softmax()\n",
    "\n",
    "    def forward(self, x): \n",
    "        x = self.first_layer(x)\n",
    "        x = self.sigmoid(x)\n",
    "        x = self.second_hidden(x)\n",
    "        x = self.relu(x)\n",
    "        x = self.third_hidden(x)\n",
    "        x = self.softmax(x)\n",
    "        x = self.output(x) \n",
    "        x = self.sigmoid(x)\n",
    "        return x \n"
   ]
  },
  {
   "cell_type": "code",
   "execution_count": 5,
   "metadata": {},
   "outputs": [],
   "source": [
    "model = NeuralModel(2, 12, 16, 20, 1)"
   ]
  },
  {
   "attachments": {},
   "cell_type": "markdown",
   "metadata": {},
   "source": [
    "## Criterion and Optimizer"
   ]
  },
  {
   "cell_type": "code",
   "execution_count": 6,
   "metadata": {},
   "outputs": [],
   "source": [
    "optimizer = torch.optim.Adam(model.parameters(), lr=0.01)\n",
    "criterion = nn.BCELoss()"
   ]
  },
  {
   "attachments": {},
   "cell_type": "markdown",
   "metadata": {},
   "source": [
    "## Train the Model"
   ]
  },
  {
   "cell_type": "code",
   "execution_count": 7,
   "metadata": {},
   "outputs": [
    {
     "name": "stderr",
     "output_type": "stream",
     "text": [
      "C:\\Users\\zorve\\AppData\\Local\\Temp\\ipykernel_2016\\2507706071.py:20: UserWarning: Implicit dimension choice for softmax has been deprecated. Change the call to include dim=X as an argument.\n",
      "  x = self.softmax(x)\n"
     ]
    },
    {
     "name": "stdout",
     "output_type": "stream",
     "text": [
      "   1  /  200  :     Train Loss    0.6957475543022156    |  Test Loss  :  0.6941491365432739\n",
      "   2  /  200  :     Train Loss    0.6947786808013916    |  Test Loss  :  0.6936137080192566\n",
      "   3  /  200  :     Train Loss     0.694037914276123    |  Test Loss  :  0.6932237148284912\n",
      "   4  /  200  :     Train Loss    0.6934446096420288    |  Test Loss  :  0.692976176738739\n",
      "   5  /  200  :     Train Loss       0.6929971575737    |  Test Loss  :  0.6928147673606873\n",
      "   6  /  200  :     Train Loss     0.692654550075531    |  Test Loss  :  0.6927823424339294\n",
      "   7  /  200  :     Train Loss    0.6924566030502319    |  Test Loss  :  0.6927822232246399\n",
      "   8  /  200  :     Train Loss    0.6923109292984009    |  Test Loss  :  0.6927741765975952\n",
      "   9  /  200  :     Train Loss    0.6921852231025696    |  Test Loss  :  0.6926901340484619\n",
      "  10  /  200  :     Train Loss    0.6920136213302612    |  Test Loss  :  0.6924953460693359\n",
      "  11  /  200  :     Train Loss    0.6917586326599121    |  Test Loss  :  0.6921708583831787\n",
      "  12  /  200  :     Train Loss     0.691400945186615    |  Test Loss  :  0.6917150020599365\n",
      "  13  /  200  :     Train Loss     0.690934956073761    |  Test Loss  :  0.6911347508430481\n",
      "  14  /  200  :     Train Loss    0.6903607249259949    |  Test Loss  :  0.6904346346855164\n",
      "  15  /  200  :     Train Loss    0.6896771192550659    |  Test Loss  :  0.6896129846572876\n",
      "  16  /  200  :     Train Loss    0.6888753771781921    |  Test Loss  :  0.6886576414108276\n",
      "  17  /  200  :     Train Loss    0.6879359483718872    |  Test Loss  :  0.6875430345535278\n",
      "  18  /  200  :     Train Loss    0.6868235468864441    |  Test Loss  :  0.6862313151359558\n",
      "  19  /  200  :     Train Loss    0.6854848265647888    |  Test Loss  :  0.6846774220466614\n",
      "  20  /  200  :     Train Loss    0.6838666200637817    |  Test Loss  :  0.6828303933143616\n",
      "  21  /  200  :     Train Loss    0.6819148063659668    |  Test Loss  :  0.6806417107582092\n",
      "  22  /  200  :     Train Loss    0.6795812249183655    |  Test Loss  :  0.6781396269798279\n",
      "  23  /  200  :     Train Loss    0.6768671870231628    |  Test Loss  :  0.6753671765327454\n",
      "  24  /  200  :     Train Loss    0.6738207340240479    |  Test Loss  :  0.6721897125244141\n",
      "  25  /  200  :     Train Loss    0.6703678369522095    |  Test Loss  :  0.6684797406196594\n",
      "  26  /  200  :     Train Loss     0.666405200958252    |  Test Loss  :  0.6641554236412048\n",
      "  27  /  200  :     Train Loss    0.6618714332580566    |  Test Loss  :  0.6591845154762268\n",
      "  28  /  200  :     Train Loss    0.6567230820655823    |  Test Loss  :  0.6536287069320679\n",
      "  29  /  200  :     Train Loss    0.6509929299354553    |  Test Loss  :  0.6475688815116882\n",
      "  30  /  200  :     Train Loss     0.644716739654541    |  Test Loss  :  0.641028106212616\n",
      "  31  /  200  :     Train Loss    0.6378375291824341    |  Test Loss  :  0.6340389847755432\n",
      "  32  /  200  :     Train Loss    0.6303275227546692    |  Test Loss  :  0.6266956329345703\n",
      "  33  /  200  :     Train Loss    0.6222841143608093    |  Test Loss  :  0.6189623475074768\n",
      "  34  /  200  :     Train Loss    0.6138134002685547    |  Test Loss  :  0.6106221079826355\n",
      "  35  /  200  :     Train Loss    0.6048852801322937    |  Test Loss  :  0.6016989946365356\n",
      "  36  /  200  :     Train Loss    0.5955832600593567    |  Test Loss  :  0.5925261378288269\n",
      "  37  /  200  :     Train Loss      0.58610999584198    |  Test Loss  :  0.5834152698516846\n",
      "  38  /  200  :     Train Loss    0.5765018463134766    |  Test Loss  :  0.5745199918746948\n",
      "  39  /  200  :     Train Loss    0.5668314695358276    |  Test Loss  :  0.5657339692115784\n",
      "  40  /  200  :     Train Loss    0.5572670698165894    |  Test Loss  :  0.5567339658737183\n",
      "  41  /  200  :     Train Loss    0.5478115677833557    |  Test Loss  :  0.5476058721542358\n",
      "  42  /  200  :     Train Loss     0.538543701171875    |  Test Loss  :  0.5388187170028687\n",
      "  43  /  200  :     Train Loss    0.5295614004135132    |  Test Loss  :  0.5306428670883179\n",
      "  44  /  200  :     Train Loss    0.5208334922790527    |  Test Loss  :  0.5229284167289734\n",
      "  45  /  200  :     Train Loss    0.5124303102493286    |  Test Loss  :  0.5152366757392883\n",
      "  46  /  200  :     Train Loss    0.5043270587921143    |  Test Loss  :  0.5075360536575317\n",
      "  47  /  200  :     Train Loss   0.49650976061820984    |  Test Loss  :  0.5002289414405823\n",
      "  48  /  200  :     Train Loss    0.4889993965625763    |  Test Loss  :  0.4935196042060852\n",
      "  49  /  200  :     Train Loss    0.4817473888397217    |  Test Loss  :  0.4871903359889984\n",
      "  50  /  200  :     Train Loss   0.47477054595947266    |  Test Loss  :  0.48087847232818604\n",
      "  51  /  200  :     Train Loss   0.46803489327430725    |  Test Loss  :  0.4745783805847168\n",
      "  52  /  200  :     Train Loss    0.4615265727043152    |  Test Loss  :  0.4685859978199005\n",
      "  53  /  200  :     Train Loss     0.455253928899765    |  Test Loss  :  0.4630592465400696\n",
      "  54  /  200  :     Train Loss    0.4491918087005615    |  Test Loss  :  0.45784202218055725\n",
      "  55  /  200  :     Train Loss    0.4433467984199524    |  Test Loss  :  0.45264285802841187\n",
      "  56  /  200  :     Train Loss   0.43770045042037964    |  Test Loss  :  0.4474366009235382\n",
      "  57  /  200  :     Train Loss    0.4322393238544464    |  Test Loss  :  0.4424394369125366\n",
      "  58  /  200  :     Train Loss   0.42696475982666016    |  Test Loss  :  0.43779879808425903\n",
      "  59  /  200  :     Train Loss   0.42185521125793457    |  Test Loss  :  0.43342456221580505\n",
      "  60  /  200  :     Train Loss    0.4169022738933563    |  Test Loss  :  0.42910003662109375\n",
      "  61  /  200  :     Train Loss   0.41209349036216736    |  Test Loss  :  0.4247331917285919\n",
      "  62  /  200  :     Train Loss   0.40741291642189026    |  Test Loss  :  0.4204555153846741\n",
      "  63  /  200  :     Train Loss    0.4028548002243042    |  Test Loss  :  0.4164314270019531\n",
      "  64  /  200  :     Train Loss    0.3984045684337616    |  Test Loss  :  0.4126513600349426\n",
      "  65  /  200  :     Train Loss    0.3940514922142029    |  Test Loss  :  0.408939391374588\n",
      "  66  /  200  :     Train Loss    0.3897882401943207    |  Test Loss  :  0.4051588773727417\n",
      "  67  /  200  :     Train Loss   0.38560232520103455    |  Test Loss  :  0.401384174823761\n",
      "  68  /  200  :     Train Loss   0.38148772716522217    |  Test Loss  :  0.39779168367385864\n",
      "  69  /  200  :     Train Loss   0.37743592262268066    |  Test Loss  :  0.3944292962551117\n",
      "  70  /  200  :     Train Loss    0.3734388053417206    |  Test Loss  :  0.3911496102809906\n",
      "  71  /  200  :     Train Loss    0.3694944381713867    |  Test Loss  :  0.38779452443122864\n",
      "  72  /  200  :     Train Loss    0.3655988276004791    |  Test Loss  :  0.38442155718803406\n",
      "  73  /  200  :     Train Loss    0.3617528975009918    |  Test Loss  :  0.3812377154827118\n",
      "  74  /  200  :     Train Loss    0.3579578995704651    |  Test Loss  :  0.3783097267150879\n",
      "  75  /  200  :     Train Loss     0.354216068983078    |  Test Loss  :  0.3754601776599884\n",
      "  76  /  200  :     Train Loss   0.35053420066833496    |  Test Loss  :  0.3725361227989197\n",
      "  77  /  200  :     Train Loss    0.3469156324863434    |  Test Loss  :  0.36968210339546204\n",
      "  78  /  200  :     Train Loss   0.34336596727371216    |  Test Loss  :  0.3671315908432007\n",
      "  79  /  200  :     Train Loss    0.3398868441581726    |  Test Loss  :  0.3647996187210083\n",
      "  80  /  200  :     Train Loss   0.33648189902305603    |  Test Loss  :  0.36241260170936584\n",
      "  81  /  200  :     Train Loss   0.33315232396125793    |  Test Loss  :  0.3600310981273651\n",
      "  82  /  200  :     Train Loss    0.3298988342285156    |  Test Loss  :  0.357965886592865\n",
      "  83  /  200  :     Train Loss   0.32672038674354553    |  Test Loss  :  0.35613518953323364\n",
      "  84  /  200  :     Train Loss   0.32361656427383423    |  Test Loss  :  0.3541971445083618\n",
      "  85  /  200  :     Train Loss   0.32058554887771606    |  Test Loss  :  0.352297842502594\n",
      "  86  /  200  :     Train Loss   0.31762561202049255    |  Test Loss  :  0.3507503867149353\n",
      "  87  /  200  :     Train Loss   0.31473222374916077    |  Test Loss  :  0.34925568103790283\n",
      "  88  /  200  :     Train Loss   0.31190231442451477    |  Test Loss  :  0.3475900888442993\n",
      "  89  /  200  :     Train Loss    0.3091302812099457    |  Test Loss  :  0.34614846110343933\n",
      "  90  /  200  :     Train Loss   0.30640965700149536    |  Test Loss  :  0.34489428997039795\n",
      "  91  /  200  :     Train Loss   0.30373311042785645    |  Test Loss  :  0.3434074819087982\n",
      "  92  /  200  :     Train Loss   0.30109405517578125    |  Test Loss  :  0.34199264645576477\n",
      "  93  /  200  :     Train Loss    0.2984861433506012    |  Test Loss  :  0.3408043086528778\n",
      "  94  /  200  :     Train Loss    0.2959044873714447    |  Test Loss  :  0.3393847644329071\n",
      "  95  /  200  :     Train Loss    0.2933492362499237    |  Test Loss  :  0.3379823863506317\n",
      "  96  /  200  :     Train Loss   0.29082241654396057    |  Test Loss  :  0.3368057608604431\n",
      "  97  /  200  :     Train Loss   0.28832846879959106    |  Test Loss  :  0.3353930413722992\n",
      "  98  /  200  :     Train Loss   0.28587451577186584    |  Test Loss  :  0.33405494689941406\n",
      "  99  /  200  :     Train Loss   0.28346651792526245    |  Test Loss  :  0.33288055658340454\n",
      " 100  /  200  :     Train Loss   0.28110939264297485    |  Test Loss  :  0.33146175742149353\n",
      " 101  /  200  :     Train Loss       0.2788065969944    |  Test Loss  :  0.3302531838417053\n",
      " 102  /  200  :     Train Loss    0.2765596807003021    |  Test Loss  :  0.3290223777294159\n",
      " 103  /  200  :     Train Loss   0.27436941862106323    |  Test Loss  :  0.32766956090927124\n",
      " 104  /  200  :     Train Loss   0.27223560214042664    |  Test Loss  :  0.3265676200389862\n",
      " 105  /  200  :     Train Loss   0.27015742659568787    |  Test Loss  :  0.3252274692058563\n",
      " 106  /  200  :     Train Loss    0.2681339383125305    |  Test Loss  :  0.3240988552570343\n",
      " 107  /  200  :     Train Loss    0.2661641240119934    |  Test Loss  :  0.32287752628326416\n",
      " 108  /  200  :     Train Loss    0.2642466723918915    |  Test Loss  :  0.32167378067970276\n",
      " 109  /  200  :     Train Loss   0.26238057017326355    |  Test Loss  :  0.3205764889717102\n",
      " 110  /  200  :     Train Loss    0.2605646252632141    |  Test Loss  :  0.31931057572364807\n",
      " 111  /  200  :     Train Loss    0.2587974965572357    |  Test Loss  :  0.31832608580589294\n",
      " 112  /  200  :     Train Loss   0.25707828998565674    |  Test Loss  :  0.31696638464927673\n",
      " 113  /  200  :     Train Loss   0.25540557503700256    |  Test Loss  :  0.3161841034889221\n",
      " 114  /  200  :     Train Loss    0.2537781000137329    |  Test Loss  :  0.31455758213996887\n",
      " 115  /  200  :     Train Loss   0.25219497084617615    |  Test Loss  :  0.31428825855255127\n",
      " 116  /  200  :     Train Loss    0.2506561279296875    |  Test Loss  :  0.3117790222167969\n",
      " 117  /  200  :     Train Loss   0.24916289746761322    |  Test Loss  :  0.31314361095428467\n",
      " 118  /  200  :     Train Loss   0.24772539734840393    |  Test Loss  :  0.3080958425998688\n",
      " 119  /  200  :     Train Loss   0.24634461104869843    |  Test Loss  :  0.31266099214553833\n",
      " 120  /  200  :     Train Loss    0.2450273483991623    |  Test Loss  :  0.30593329668045044\n",
      " 121  /  200  :     Train Loss   0.24361386895179749    |  Test Loss  :  0.3079710900783539\n",
      " 122  /  200  :     Train Loss   0.24223504960536957    |  Test Loss  :  0.3074851632118225\n",
      " 123  /  200  :     Train Loss   0.24097061157226562    |  Test Loss  :  0.3027482032775879\n",
      " 124  /  200  :     Train Loss   0.23977331817150116    |  Test Loss  :  0.30651283264160156\n",
      " 125  /  200  :     Train Loss   0.23856192827224731    |  Test Loss  :  0.302178293466568\n",
      " 126  /  200  :     Train Loss   0.23731590807437897    |  Test Loss  :  0.3007122278213501\n",
      " 127  /  200  :     Train Loss    0.2361692637205124    |  Test Loss  :  0.30325356125831604\n",
      " 128  /  200  :     Train Loss   0.23509398102760315    |  Test Loss  :  0.2975674271583557\n",
      " 129  /  200  :     Train Loss   0.23397403955459595    |  Test Loss  :  0.2993689775466919\n",
      " 130  /  200  :     Train Loss   0.23286205530166626    |  Test Loss  :  0.2981222867965698\n",
      " 131  /  200  :     Train Loss   0.23181229829788208    |  Test Loss  :  0.2942626178264618\n",
      " 132  /  200  :     Train Loss    0.2308187037706375    |  Test Loss  :  0.29739126563072205\n",
      " 133  /  200  :     Train Loss   0.22983765602111816    |  Test Loss  :  0.2921127378940582\n",
      " 134  /  200  :     Train Loss   0.22882945835590363    |  Test Loss  :  0.29300829768180847\n",
      " 135  /  200  :     Train Loss   0.22784948348999023    |  Test Loss  :  0.2920421063899994\n",
      " 136  /  200  :     Train Loss    0.2269173562526703    |  Test Loss  :  0.2882486581802368\n",
      " 137  /  200  :     Train Loss   0.22602413594722748    |  Test Loss  :  0.2911933362483978\n",
      " 138  /  200  :     Train Loss   0.22515563666820526    |  Test Loss  :  0.28488942980766296\n",
      " 139  /  200  :     Train Loss     0.224280446767807    |  Test Loss  :  0.2885993719100952\n",
      " 140  /  200  :     Train Loss    0.2234216183423996    |  Test Loss  :  0.2829238772392273\n",
      " 141  /  200  :     Train Loss   0.22256074845790863    |  Test Loss  :  0.28482624888420105\n",
      " 142  /  200  :     Train Loss   0.22172513604164124    |  Test Loss  :  0.2815207242965698\n",
      " 143  /  200  :     Train Loss   0.22091181576251984    |  Test Loss  :  0.2810837924480438\n",
      " 144  /  200  :     Train Loss   0.22012212872505188    |  Test Loss  :  0.2799670398235321\n",
      " 145  /  200  :     Train Loss   0.21935319900512695    |  Test Loss  :  0.27759069204330444\n",
      " 146  /  200  :     Train Loss   0.21860435605049133    |  Test Loss  :  0.27872827649116516\n",
      " 147  /  200  :     Train Loss     0.217879980802536    |  Test Loss  :  0.2733587622642517\n",
      " 148  /  200  :     Train Loss   0.21719428896903992    |  Test Loss  :  0.27985334396362305\n",
      " 149  /  200  :     Train Loss   0.21661801636219025    |  Test Loss  :  0.2668953835964203\n",
      " 150  /  200  :     Train Loss   0.21613246202468872    |  Test Loss  :  0.28380075097084045\n",
      " 151  /  200  :     Train Loss   0.21590900421142578    |  Test Loss  :  0.2679990828037262\n",
      " 152  /  200  :     Train Loss   0.21451912820339203    |  Test Loss  :  0.2672131359577179\n",
      " 153  /  200  :     Train Loss   0.21386460959911346    |  Test Loss  :  0.27979499101638794\n",
      " 154  /  200  :     Train Loss    0.2137259840965271    |  Test Loss  :  0.26591750979423523\n",
      " 155  /  200  :     Train Loss    0.2125849723815918    |  Test Loss  :  0.26523199677467346\n",
      " 156  /  200  :     Train Loss    0.2119693011045456    |  Test Loss  :  0.2764860689640045\n",
      " 157  /  200  :     Train Loss   0.21171943843364716    |  Test Loss  :  0.2652053236961365\n",
      " 158  /  200  :     Train Loss   0.21071214973926544    |  Test Loss  :  0.2624605596065521\n",
      " 159  /  200  :     Train Loss   0.21024823188781738    |  Test Loss  :  0.2744676470756531\n",
      " 160  /  200  :     Train Loss    0.2099355161190033    |  Test Loss  :  0.265076220035553\n",
      " 161  /  200  :     Train Loss   0.20895680785179138    |  Test Loss  :  0.25909602642059326\n",
      " 162  /  200  :     Train Loss    0.2087094932794571    |  Test Loss  :  0.27328556776046753\n",
      " 163  /  200  :     Train Loss   0.20831066370010376    |  Test Loss  :  0.2658497095108032\n",
      " 164  /  200  :     Train Loss   0.20733875036239624    |  Test Loss  :  0.2553347647190094\n",
      " 165  /  200  :     Train Loss    0.2073805034160614    |  Test Loss  :  0.27172499895095825\n",
      " 166  /  200  :     Train Loss    0.2067171335220337    |  Test Loss  :  0.2677682638168335\n",
      " 167  /  200  :     Train Loss   0.20592719316482544    |  Test Loss  :  0.2530007064342499\n",
      " 168  /  200  :     Train Loss   0.20599372684955597    |  Test Loss  :  0.2669038772583008\n",
      " 169  /  200  :     Train Loss    0.2049395740032196    |  Test Loss  :  0.2688029706478119\n",
      " 170  /  200  :     Train Loss    0.2046259194612503    |  Test Loss  :  0.25511398911476135\n",
      " 171  /  200  :     Train Loss    0.2041107416152954    |  Test Loss  :  0.25882548093795776\n",
      " 172  /  200  :     Train Loss   0.20340046286582947    |  Test Loss  :  0.26716896891593933\n",
      " 173  /  200  :     Train Loss   0.20319713652133942    |  Test Loss  :  0.2599462568759918\n",
      " 174  /  200  :     Train Loss     0.202463299036026    |  Test Loss  :  0.2532769739627838\n",
      " 175  /  200  :     Train Loss   0.20228177309036255    |  Test Loss  :  0.26312729716300964\n",
      " 176  /  200  :     Train Loss   0.20168741047382355    |  Test Loss  :  0.2626875340938568\n",
      " 177  /  200  :     Train Loss   0.20125728845596313    |  Test Loss  :  0.25279366970062256\n",
      " 178  /  200  :     Train Loss   0.20090265572071075    |  Test Loss  :  0.25696858763694763\n",
      " 179  /  200  :     Train Loss   0.20030394196510315    |  Test Loss  :  0.26195028424263\n",
      " 180  /  200  :     Train Loss   0.20003780722618103    |  Test Loss  :  0.2552781403064728\n",
      " 181  /  200  :     Train Loss   0.19948922097682953    |  Test Loss  :  0.25202906131744385\n",
      " 182  /  200  :     Train Loss    0.1991776078939438    |  Test Loss  :  0.2589055895805359\n",
      " 183  /  200  :     Train Loss   0.19875508546829224    |  Test Loss  :  0.25707295536994934\n",
      " 184  /  200  :     Train Loss    0.1983192265033722    |  Test Loss  :  0.2502601742744446\n",
      " 185  /  200  :     Train Loss   0.19801358878612518    |  Test Loss  :  0.25457295775413513\n",
      " 186  /  200  :     Train Loss   0.19752590358257294    |  Test Loss  :  0.25675690174102783\n",
      " 187  /  200  :     Train Loss   0.19721485674381256    |  Test Loss  :  0.2507385015487671\n",
      " 188  /  200  :     Train Loss    0.1968023031949997    |  Test Loss  :  0.2505550682544708\n",
      " 189  /  200  :     Train Loss     0.196427583694458    |  Test Loss  :  0.2548712491989136\n",
      " 190  /  200  :     Train Loss   0.19609899818897247    |  Test Loss  :  0.2515586018562317\n",
      " 191  /  200  :     Train Loss    0.1956876963376999    |  Test Loss  :  0.24803896248340607\n",
      " 192  /  200  :     Train Loss   0.19538375735282898    |  Test Loss  :  0.25217074155807495\n",
      " 193  /  200  :     Train Loss   0.19500207901000977    |  Test Loss  :  0.251592218875885\n",
      " 194  /  200  :     Train Loss   0.19465391337871552    |  Test Loss  :  0.24700133502483368\n",
      " 195  /  200  :     Train Loss   0.19433413445949554    |  Test Loss  :  0.24930690228939056\n",
      " 196  /  200  :     Train Loss   0.19395826756954193    |  Test Loss  :  0.25074246525764465\n",
      " 197  /  200  :     Train Loss   0.19364899396896362    |  Test Loss  :  0.2467673271894455\n",
      " 198  /  200  :     Train Loss   0.19330400228500366    |  Test Loss  :  0.2468375861644745\n",
      " 199  /  200  :     Train Loss    0.1929692029953003    |  Test Loss  :  0.2493106871843338\n",
      " 200  /  200  :     Train Loss   0.19266057014465332    |  Test Loss  :  0.24666628241539001\n"
     ]
    }
   ],
   "source": [
    "all_train_losses, all_test_losses, accuracies = [], [], []\n",
    "\n",
    "torch.manual_seed(28)\n",
    "\n",
    "for it in range(200): \n",
    "    optimizer.zero_grad()\n",
    "    prediction = model.forward(x_train)\n",
    "    train_loss = criterion(prediction, y_train)\n",
    "    train_loss.backward()\n",
    "    optimizer.step()\n",
    "    all_train_losses.append(train_loss.item())\n",
    "\n",
    "    model.eval()\n",
    "    with torch.no_grad():\n",
    "        test_prediction = model.forward(x_test)\n",
    "        test_loss = criterion(test_prediction, y_test)\n",
    "        result = test_prediction > 0.5\n",
    "        # print(result)\n",
    "        accuracy = sum(result == y_test) / result.shape[0]\n",
    "    model.train()\n",
    "\n",
    "    all_test_losses.append(test_loss.item())\n",
    "    accuracies.append(accuracy)\n",
    "\n",
    "    print(f'{it + 1 :4}  /{200:5}  :     Train Loss  {train_loss.item():20}    |  Test Loss  :  {test_loss.item()}')"
   ]
  },
  {
   "attachments": {},
   "cell_type": "markdown",
   "metadata": {},
   "source": [
    "## Plot the Result"
   ]
  },
  {
   "cell_type": "code",
   "execution_count": 8,
   "metadata": {},
   "outputs": [
    {
     "name": "stderr",
     "output_type": "stream",
     "text": [
      "c:\\Users\\zorve\\anaconda3\\envs\\deeplearning\\lib\\site-packages\\numpy\\core\\shape_base.py:65: FutureWarning: The input object of type 'Tensor' is an array-like implementing one of the corresponding protocols (`__array__`, `__array_interface__` or `__array_struct__`); but not a sequence (or 0-D). In the future, this object will be coerced as if it was first converted using `np.array(obj)`. To retain the old behaviour, you have to either modify the type 'Tensor', or assign to an empty array created with `np.empty(correct_shape, dtype=object)`.\n",
      "  ary = asanyarray(ary)\n",
      "c:\\Users\\zorve\\anaconda3\\envs\\deeplearning\\lib\\site-packages\\numpy\\core\\shape_base.py:65: VisibleDeprecationWarning: Creating an ndarray from ragged nested sequences (which is a list-or-tuple of lists-or-tuples-or ndarrays with different lengths or shapes) is deprecated. If you meant to do this, you must specify 'dtype=object' when creating the ndarray.\n",
      "  ary = asanyarray(ary)\n"
     ]
    },
    {
     "data": {
      "image/png": "[encoded data removed]",
      "text/plain": [
       "<Figure size 640x480 with 1 Axes>"
      ]
     },
     "metadata": {},
     "output_type": "display_data"
    }
   ],
   "source": [
    "plt.plot(all_train_losses, label='train loss')\n",
    "plt.plot(all_test_losses, label='test train')\n",
    "plt.plot(accuracies, label='accuracy')\n",
    "plt.legend()\n",
    "plt.show()"
   ]
  },
  {
   "attachments": {},
   "cell_type": "markdown",
   "metadata": {},
   "source": [
    "## Make Prediction"
   ]
  },
  {
   "cell_type": "code",
   "execution_count": 9,
   "metadata": {},
   "outputs": [
    {
     "name": "stdout",
     "output_type": "stream",
     "text": [
      "Prediction :   tensor([0.0869], grad_fn=<SigmoidBackward0>)\n"
     ]
    },
    {
     "name": "stderr",
     "output_type": "stream",
     "text": [
      "C:\\Users\\zorve\\AppData\\Local\\Temp\\ipykernel_2016\\2507706071.py:20: UserWarning: Implicit dimension choice for softmax has been deprecated. Change the call to include dim=X as an argument.\n",
      "  x = self.softmax(x)\n"
     ]
    }
   ],
   "source": [
    "practice = torch.tensor([2, 3]).float()\n",
    "print('Prediction :  ', model.forward(practice))"
   ]
  }
 ],
 "metadata": {
  "kernelspec": {
   "display_name": "deeplearning",
   "language": "python",
   "name": "python3"
  },
  "language_info": {
   "codemirror_mode": {
    "name": "ipython",
    "version": 3
   },
   "file_extension": ".py",
   "mimetype": "text/x-python",
   "name": "python",
   "nbconvert_exporter": "python",
   "pygments_lexer": "ipython3",
   "version": "3.8.13"
  },
  "orig_nbformat": 4
 },
 "nbformat": 4,
 "nbformat_minor": 2
}
