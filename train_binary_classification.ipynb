{
 "cells": [
  {
   "attachments": {},
   "cell_type": "markdown",
   "metadata": {},
   "source": [
    "## Import Libraries"
   ]
  },
  {
   "cell_type": "code",
   "execution_count": 1,
   "metadata": {},
   "outputs": [],
   "source": [
    "from turtle import forward\n",
    "import torch \n",
    "import torch.nn as nn \n",
    "import numpy as np \n",
    "import pandas as pd \n",
    "from sklearn.model_selection import train_test_split as tts \n",
    "import matplotlib.pyplot as plt "
   ]
  },
  {
   "attachments": {},
   "cell_type": "markdown",
   "metadata": {},
   "source": [
    "## Read Data "
   ]
  },
  {
   "cell_type": "code",
   "execution_count": 2,
   "metadata": {},
   "outputs": [],
   "source": [
    "data = pd.read_csv('data/data.csv')\n",
    "data.columns = ['feature1', 'feature2', 'target']\n",
    "\n",
    "X = torch.from_numpy(data[['feature1', 'feature2']].values).float() \n",
    "y = torch.from_numpy(data[['target']].values).float()"
   ]
  },
  {
   "attachments": {},
   "cell_type": "markdown",
   "metadata": {},
   "source": [
    "## Split the Data"
   ]
  },
  {
   "cell_type": "code",
   "execution_count": 3,
   "metadata": {},
   "outputs": [
    {
     "name": "stdout",
     "output_type": "stream",
     "text": [
      "<class 'torch.Tensor'> <class 'torch.Tensor'>\n",
      "tensor([[0.4964, 0.4538],\n",
      "        [0.3106, 0.5070],\n",
      "        [0.4222, 0.6167],\n",
      "        [0.5384, 0.3277],\n",
      "        [0.2877, 0.2914],\n",
      "        [0.4028, 0.0351],\n",
      "        [0.6991, 0.3731],\n",
      "        [0.7144, 0.7668],\n",
      "        [0.8528, 0.8599],\n",
      "        [0.8964, 0.7085],\n",
      "        [0.3975, 0.3190],\n",
      "        [0.8518, 0.6612],\n",
      "        [0.7614, 0.6014],\n",
      "        [0.6738, 0.7797],\n",
      "        [0.5893, 0.7158],\n",
      "        [0.2753, 0.3322],\n",
      "        [0.1643, 0.2776],\n",
      "        [0.5092, 0.3526],\n",
      "        [0.7897, 0.7423],\n",
      "        [0.7703, 0.7014],\n",
      "        [0.4455, 0.4512],\n",
      "        [0.2564, 0.4262],\n",
      "        [0.6591, 0.7155],\n",
      "        [0.5453, 0.6391],\n",
      "        [0.7299, 0.8107],\n",
      "        [0.7323, 0.6424],\n",
      "        [0.2763, 0.2126],\n",
      "        [0.7906, 0.5611],\n",
      "        [0.7076, 0.7602],\n",
      "        [0.6209, 0.8042],\n",
      "        [0.7315, 0.7452],\n",
      "        [0.2548, 0.3460],\n",
      "        [0.3815, 0.4622],\n",
      "        [0.5191, 0.6236],\n",
      "        [0.7998, 0.7485],\n",
      "        [0.4583, 0.4641],\n",
      "        [0.1525, 0.2168],\n",
      "        [0.7316, 0.7178],\n",
      "        [0.7088, 0.9676],\n",
      "        [0.6791, 0.6092],\n",
      "        [0.5374, 0.2864],\n",
      "        [0.4591, 0.4043],\n",
      "        [0.3215, 0.1201],\n",
      "        [0.3326, 0.0560],\n",
      "        [0.6457, 0.5684],\n",
      "        [0.4956, 0.2145],\n",
      "        [0.3710, 0.3881],\n",
      "        [0.7940, 0.5679],\n",
      "        [0.4071, 0.1788],\n",
      "        [0.5915, 0.6293],\n",
      "        [0.6642, 0.7252],\n",
      "        [0.4427, 0.5921],\n",
      "        [0.5899, 0.8695],\n",
      "        [0.4456, 0.5799],\n",
      "        [0.6905, 0.8306],\n",
      "        [0.1019, 0.0604],\n",
      "        [0.6044, 0.8661],\n",
      "        [0.3356, 0.4298],\n",
      "        [0.6824, 0.4830],\n",
      "        [0.6641, 0.9208],\n",
      "        [0.4849, 0.2607],\n",
      "        [0.5942, 0.6186],\n",
      "        [0.7771, 0.3503],\n",
      "        [0.2345, 0.2499],\n",
      "        [0.3085, 0.2431],\n",
      "        [0.1242, 0.3359],\n",
      "        [0.2849, 0.5214],\n",
      "        [0.3295, 0.3922],\n",
      "        [0.1007, 0.3205]])\n",
      "   feature1  feature2  target\n",
      "0   0.28774   0.29139       1\n",
      "1   0.40714   0.17878       1\n",
      "2   0.29230   0.42170       1\n",
      "3   0.50922   0.35256       1\n",
      "69 69\n",
      "30 30\n"
     ]
    }
   ],
   "source": [
    "x_train, x_test, y_train, y_test = tts(X, y, train_size=0.7, random_state=73)\n",
    "\n",
    "print(type(x_train), type(y_train))\n",
    "print(x_train)\n",
    "print(data.head(4)) \n",
    "print(len(x_train), len(y_train))\n",
    "print(len(x_test), len(y_test))"
   ]
  },
  {
   "attachments": {},
   "cell_type": "markdown",
   "metadata": {},
   "source": [
    "## Create Model"
   ]
  },
  {
   "cell_type": "code",
   "execution_count": 4,
   "metadata": {},
   "outputs": [],
   "source": [
    "class NeuralModel(nn.Module):\n",
    "    def __init__(self, input, hidden1, hidden2, hidden3, output):\n",
    "        super(NeuralModel, self).__init__()\n",
    "\n",
    "        self.first_layer    = nn.Linear(input, hidden1)\n",
    "        self.second_hidden  = nn.Linear(hidden1, hidden2)\n",
    "        self.third_hidden   = nn.Linear(hidden2, hidden3)\n",
    "        self.output         = nn.Linear(hidden3, output)\n",
    "\n",
    "        self.sigmoid    = nn.Sigmoid()\n",
    "        self.relu       = nn.ReLU()\n",
    "        self.softmax    = nn.Softmax()\n",
    "\n",
    "    def forward(self, x): \n",
    "        x = self.first_layer(x)\n",
    "        x = self.sigmoid(x)\n",
    "        x = self.second_hidden(x)\n",
    "        x = self.relu(x)\n",
    "        x = self.third_hidden(x)\n",
    "        x = self.softmax(x)\n",
    "        x = self.output(x) \n",
    "        x = self.sigmoid(x)\n",
    "        return x \n"
   ]
  },
  {
   "cell_type": "code",
   "execution_count": 5,
   "metadata": {},
   "outputs": [],
   "source": [
    "model = NeuralModel(2, 12, 16, 20, 1)"
   ]
  },
  {
   "attachments": {},
   "cell_type": "markdown",
   "metadata": {},
   "source": [
    "## Criterion and Optimizer"
   ]
  },
  {
   "cell_type": "code",
   "execution_count": 6,
   "metadata": {},
   "outputs": [],
   "source": [
    "optimizer = torch.optim.Adam(model.parameters(), lr=0.01)\n",
    "criterion = nn.BCELoss()"
   ]
  },
  {
   "attachments": {},
   "cell_type": "markdown",
   "metadata": {},
   "source": [
    "## Train the Model"
   ]
  },
  {
   "cell_type": "code",
   "execution_count": 7,
   "metadata": {},
   "outputs": [
    {
     "name": "stderr",
     "output_type": "stream",
     "text": [
      "C:\\Users\\zorve\\AppData\\Local\\Temp\\ipykernel_17004\\2507706071.py:20: UserWarning: Implicit dimension choice for softmax has been deprecated. Change the call to include dim=X as an argument.\n",
      "  x = self.softmax(x)\n"
     ]
    },
    {
     "name": "stdout",
     "output_type": "stream",
     "text": [
      "   1  /  200  :     Train Loss     0.697534441947937    |  Test Loss  :  0.6978779435157776\n",
      "   2  /  200  :     Train Loss    0.6964557766914368    |  Test Loss  :  0.6967610120773315\n",
      "   3  /  200  :     Train Loss    0.6955106258392334    |  Test Loss  :  0.6957840323448181\n",
      "   4  /  200  :     Train Loss       0.6947061419487    |  Test Loss  :  0.6949521899223328\n",
      "   5  /  200  :     Train Loss    0.6940456628799438    |  Test Loss  :  0.6942760348320007\n",
      "   6  /  200  :     Train Loss    0.6935365200042725    |  Test Loss  :  0.6937366724014282\n",
      "   7  /  200  :     Train Loss    0.6931606531143188    |  Test Loss  :  0.6933333277702332\n",
      "   8  /  200  :     Train Loss     0.692913293838501    |  Test Loss  :  0.6930525898933411\n",
      "   9  /  200  :     Train Loss    0.6927776336669922    |  Test Loss  :  0.6928739547729492\n",
      "  10  /  200  :     Train Loss    0.6927289962768555    |  Test Loss  :  0.6927703022956848\n",
      "  11  /  200  :     Train Loss    0.6927374005317688    |  Test Loss  :  0.6927120089530945\n",
      "  12  /  200  :     Train Loss    0.6927701830863953    |  Test Loss  :  0.692670464515686\n",
      "  13  /  200  :     Train Loss    0.6927974820137024    |  Test Loss  :  0.6926230192184448\n",
      "  14  /  200  :     Train Loss    0.6927959322929382    |  Test Loss  :  0.6925537586212158\n",
      "  15  /  200  :     Train Loss    0.6927511692047119    |  Test Loss  :  0.692432701587677\n",
      "  16  /  200  :     Train Loss    0.6926329135894775    |  Test Loss  :  0.6922899484634399\n",
      "  17  /  200  :     Train Loss    0.6924723982810974    |  Test Loss  :  0.6921200156211853\n",
      "  18  /  200  :     Train Loss     0.692270040512085    |  Test Loss  :  0.6919223666191101\n",
      "  19  /  200  :     Train Loss    0.6920256614685059    |  Test Loss  :  0.6917005777359009\n",
      "  20  /  200  :     Train Loss    0.6917451620101929    |  Test Loss  :  0.6914564967155457\n",
      "  21  /  200  :     Train Loss    0.6914324164390564    |  Test Loss  :  0.6911887526512146\n",
      "  22  /  200  :     Train Loss    0.6910879015922546    |  Test Loss  :  0.6908928155899048\n",
      "  23  /  200  :     Train Loss     0.690708577632904    |  Test Loss  :  0.6905605792999268\n",
      "  24  /  200  :     Train Loss     0.690287709236145    |  Test Loss  :  0.6901807188987732\n",
      "  25  /  200  :     Train Loss    0.6898145079612732    |  Test Loss  :  0.6897376775741577\n",
      "  26  /  200  :     Train Loss    0.6892746090888977    |  Test Loss  :  0.689212441444397\n",
      "  27  /  200  :     Train Loss    0.6886494159698486    |  Test Loss  :  0.6886597275733948\n",
      "  28  /  200  :     Train Loss    0.6879536509513855    |  Test Loss  :  0.6880387663841248\n",
      "  29  /  200  :     Train Loss    0.6871669888496399    |  Test Loss  :  0.6870619654655457\n",
      "  30  /  200  :     Train Loss    0.6861339211463928    |  Test Loss  :  0.6858282685279846\n",
      "  31  /  200  :     Train Loss    0.6849058866500854    |  Test Loss  :  0.6843917965888977\n",
      "  32  /  200  :     Train Loss    0.6834573149681091    |  Test Loss  :  0.6827637553215027\n",
      "  33  /  200  :     Train Loss    0.6817917823791504    |  Test Loss  :  0.6809371113777161\n",
      "  34  /  200  :     Train Loss    0.6799077987670898    |  Test Loss  :  0.6788377165794373\n",
      "  35  /  200  :     Train Loss    0.6777297854423523    |  Test Loss  :  0.6764252781867981\n",
      "  36  /  200  :     Train Loss    0.6752094626426697    |  Test Loss  :  0.6736673712730408\n",
      "  37  /  200  :     Train Loss    0.6722906827926636    |  Test Loss  :  0.6705625057220459\n",
      "  38  /  200  :     Train Loss    0.6689558625221252    |  Test Loss  :  0.6671435832977295\n",
      "  39  /  200  :     Train Loss    0.6651794910430908    |  Test Loss  :  0.6634067893028259\n",
      "  40  /  200  :     Train Loss    0.6609585285186768    |  Test Loss  :  0.6592799425125122\n",
      "  41  /  200  :     Train Loss    0.6563050150871277    |  Test Loss  :  0.6544612646102905\n",
      "  42  /  200  :     Train Loss    0.6510909795761108    |  Test Loss  :  0.648952066898346\n",
      "  43  /  200  :     Train Loss    0.6452752947807312    |  Test Loss  :  0.6428744792938232\n",
      "  44  /  200  :     Train Loss    0.6389533281326294    |  Test Loss  :  0.6364085674285889\n",
      "  45  /  200  :     Train Loss     0.632108747959137    |  Test Loss  :  0.6296125650405884\n",
      "  46  /  200  :     Train Loss    0.6246882677078247    |  Test Loss  :  0.6225232481956482\n",
      "  47  /  200  :     Train Loss    0.6167618632316589    |  Test Loss  :  0.6150244474411011\n",
      "  48  /  200  :     Train Loss    0.6084238886833191    |  Test Loss  :  0.6069864630699158\n",
      "  49  /  200  :     Train Loss    0.5996737480163574    |  Test Loss  :  0.5984218716621399\n",
      "  50  /  200  :     Train Loss    0.5905650854110718    |  Test Loss  :  0.5895225405693054\n",
      "  51  /  200  :     Train Loss    0.5812282562255859    |  Test Loss  :  0.5805165767669678\n",
      "  52  /  200  :     Train Loss    0.5717251896858215    |  Test Loss  :  0.571561872959137\n",
      "  53  /  200  :     Train Loss     0.562088668346405    |  Test Loss  :  0.5626760125160217\n",
      "  54  /  200  :     Train Loss    0.5524123907089233    |  Test Loss  :  0.5537464022636414\n",
      "  55  /  200  :     Train Loss    0.5428053736686707    |  Test Loss  :  0.5447543859481812\n",
      "  56  /  200  :     Train Loss    0.5333199501037598    |  Test Loss  :  0.5357611775398254\n",
      "  57  /  200  :     Train Loss    0.5240100026130676    |  Test Loss  :  0.5269802212715149\n",
      "  58  /  200  :     Train Loss    0.5149313807487488    |  Test Loss  :  0.5185664892196655\n",
      "  59  /  200  :     Train Loss    0.5061166882514954    |  Test Loss  :  0.5105018019676208\n",
      "  60  /  200  :     Train Loss    0.4975982904434204    |  Test Loss  :  0.5027195811271667\n",
      "  61  /  200  :     Train Loss   0.48939260840415955    |  Test Loss  :  0.49510112404823303\n",
      "  62  /  200  :     Train Loss     0.481488436460495    |  Test Loss  :  0.4877413809299469\n",
      "  63  /  200  :     Train Loss    0.4738907217979431    |  Test Loss  :  0.4807235300540924\n",
      "  64  /  200  :     Train Loss   0.46659716963768005    |  Test Loss  :  0.4741467833518982\n",
      "  65  /  200  :     Train Loss    0.4595864415168762    |  Test Loss  :  0.46798840165138245\n",
      "  66  /  200  :     Train Loss   0.45285171270370483    |  Test Loss  :  0.4620636999607086\n",
      "  67  /  200  :     Train Loss    0.4463878870010376    |  Test Loss  :  0.4561842978000641\n",
      "  68  /  200  :     Train Loss    0.4401671588420868    |  Test Loss  :  0.45043429732322693\n",
      "  69  /  200  :     Train Loss    0.4341781735420227    |  Test Loss  :  0.4449852705001831\n",
      "  70  /  200  :     Train Loss    0.4284049868583679    |  Test Loss  :  0.43992793560028076\n",
      "  71  /  200  :     Train Loss   0.42282161116600037    |  Test Loss  :  0.43517354130744934\n",
      "  72  /  200  :     Train Loss    0.4174179136753082    |  Test Loss  :  0.4305099546909332\n",
      "  73  /  200  :     Train Loss    0.4121808111667633    |  Test Loss  :  0.42580854892730713\n",
      "  74  /  200  :     Train Loss     0.407088965177536    |  Test Loss  :  0.4211362600326538\n",
      "  75  /  200  :     Train Loss   0.40213173627853394    |  Test Loss  :  0.4166567623615265\n",
      "  76  /  200  :     Train Loss    0.3972955346107483    |  Test Loss  :  0.41244468092918396\n",
      "  77  /  200  :     Train Loss   0.39256229996681213    |  Test Loss  :  0.4084121584892273\n",
      "  78  /  200  :     Train Loss   0.38792094588279724    |  Test Loss  :  0.4043969511985779\n",
      "  79  /  200  :     Train Loss   0.38335952162742615    |  Test Loss  :  0.4002942442893982\n",
      "  80  /  200  :     Train Loss   0.37886345386505127    |  Test Loss  :  0.39616259932518005\n",
      "  81  /  200  :     Train Loss   0.37442392110824585    |  Test Loss  :  0.39213961362838745\n",
      "  82  /  200  :     Train Loss    0.3700316846370697    |  Test Loss  :  0.3883098363876343\n",
      "  83  /  200  :     Train Loss    0.3656768500804901    |  Test Loss  :  0.3846093714237213\n",
      "  84  /  200  :     Train Loss    0.3613579273223877    |  Test Loss  :  0.3808964490890503\n",
      "  85  /  200  :     Train Loss   0.35707607865333557    |  Test Loss  :  0.3770923912525177\n",
      "  86  /  200  :     Train Loss   0.35283252596855164    |  Test Loss  :  0.37328654527664185\n",
      "  87  /  200  :     Train Loss    0.3486335575580597    |  Test Loss  :  0.3696187734603882\n",
      "  88  /  200  :     Train Loss   0.34448567032814026    |  Test Loss  :  0.366168349981308\n",
      "  89  /  200  :     Train Loss   0.34039363265037537    |  Test Loss  :  0.36287185549736023\n",
      "  90  /  200  :     Train Loss    0.3363649547100067    |  Test Loss  :  0.3595672845840454\n",
      "  91  /  200  :     Train Loss    0.3324047923088074    |  Test Loss  :  0.35622647404670715\n",
      "  92  /  200  :     Train Loss   0.32851502299308777    |  Test Loss  :  0.3529801666736603\n",
      "  93  /  200  :     Train Loss   0.32469844818115234    |  Test Loss  :  0.3499723970890045\n",
      "  94  /  200  :     Train Loss    0.3209555745124817    |  Test Loss  :  0.3471505343914032\n",
      "  95  /  200  :     Train Loss   0.31728723645210266    |  Test Loss  :  0.34436532855033875\n",
      "  96  /  200  :     Train Loss     0.313693106174469    |  Test Loss  :  0.3415588438510895\n",
      "  97  /  200  :     Train Loss    0.3101730942726135    |  Test Loss  :  0.3388553857803345\n",
      "  98  /  200  :     Train Loss    0.3067282438278198    |  Test Loss  :  0.33639848232269287\n",
      "  99  /  200  :     Train Loss     0.303358793258667    |  Test Loss  :  0.33411458134651184\n",
      " 100  /  200  :     Train Loss     0.300065815448761    |  Test Loss  :  0.33183231949806213\n",
      " 101  /  200  :     Train Loss    0.2968499958515167    |  Test Loss  :  0.3295673429965973\n",
      " 102  /  200  :     Train Loss   0.29371216893196106    |  Test Loss  :  0.3275032639503479\n",
      " 103  /  200  :     Train Loss    0.2906531095504761    |  Test Loss  :  0.325673371553421\n",
      " 104  /  200  :     Train Loss    0.2876729369163513    |  Test Loss  :  0.3238755464553833\n",
      " 105  /  200  :     Train Loss   0.28477147221565247    |  Test Loss  :  0.3220522105693817\n",
      " 106  /  200  :     Train Loss    0.2819480299949646    |  Test Loss  :  0.32041341066360474\n",
      " 107  /  200  :     Train Loss    0.2792019248008728    |  Test Loss  :  0.31898581981658936\n",
      " 108  /  200  :     Train Loss   0.27653172612190247    |  Test Loss  :  0.31754013895988464\n",
      " 109  /  200  :     Train Loss    0.2739356756210327    |  Test Loss  :  0.316069632768631\n",
      " 110  /  200  :     Train Loss    0.2714121341705322    |  Test Loss  :  0.31479138135910034\n",
      " 111  /  200  :     Train Loss    0.2689594030380249    |  Test Loss  :  0.3136586844921112\n",
      " 112  /  200  :     Train Loss   0.26657572388648987    |  Test Loss  :  0.31241849064826965\n",
      " 113  /  200  :     Train Loss    0.2642589509487152    |  Test Loss  :  0.31119340658187866\n",
      " 114  /  200  :     Train Loss   0.26200753450393677    |  Test Loss  :  0.31017598509788513\n",
      " 115  /  200  :     Train Loss    0.2598196268081665    |  Test Loss  :  0.3091374337673187\n",
      " 116  /  200  :     Train Loss    0.2576938569545746    |  Test Loss  :  0.3079802095890045\n",
      " 117  /  200  :     Train Loss   0.25562843680381775    |  Test Loss  :  0.30697014927864075\n",
      " 118  /  200  :     Train Loss    0.2536221146583557    |  Test Loss  :  0.3060288727283478\n",
      " 119  /  200  :     Train Loss    0.2516734302043915    |  Test Loss  :  0.30492183566093445\n",
      " 120  /  200  :     Train Loss   0.24978068470954895    |  Test Loss  :  0.30386829376220703\n",
      " 121  /  200  :     Train Loss     0.247942715883255    |  Test Loss  :  0.3029366731643677\n",
      " 122  /  200  :     Train Loss   0.24615801870822906    |  Test Loss  :  0.3018568754196167\n",
      " 123  /  200  :     Train Loss   0.24442517757415771    |  Test Loss  :  0.3007488250732422\n",
      " 124  /  200  :     Train Loss    0.2427426278591156    |  Test Loss  :  0.29977747797966003\n",
      " 125  /  200  :     Train Loss   0.24110907316207886    |  Test Loss  :  0.2986792027950287\n",
      " 126  /  200  :     Train Loss    0.2395229935646057    |  Test Loss  :  0.2975200116634369\n",
      " 127  /  200  :     Train Loss   0.23798303306102753    |  Test Loss  :  0.2964957654476166\n",
      " 128  /  200  :     Train Loss    0.2364877313375473    |  Test Loss  :  0.29533812403678894\n",
      " 129  /  200  :     Train Loss   0.23503555357456207    |  Test Loss  :  0.29413238167762756\n",
      " 130  /  200  :     Train Loss   0.23362521827220917    |  Test Loss  :  0.29304784536361694\n",
      " 131  /  200  :     Train Loss    0.2322552651166916    |  Test Loss  :  0.29181620478630066\n",
      " 132  /  200  :     Train Loss    0.2309243232011795    |  Test Loss  :  0.2905784845352173\n",
      " 133  /  200  :     Train Loss   0.22963105142116547    |  Test Loss  :  0.28943121433258057\n",
      " 134  /  200  :     Train Loss    0.2283741980791092    |  Test Loss  :  0.28811585903167725\n",
      " 135  /  200  :     Train Loss   0.22715240716934204    |  Test Loss  :  0.2868906259536743\n",
      " 136  /  200  :     Train Loss    0.2259645015001297    |  Test Loss  :  0.285647988319397\n",
      " 137  /  200  :     Train Loss   0.22480925917625427    |  Test Loss  :  0.28429991006851196\n",
      " 138  /  200  :     Train Loss   0.22368551790714264    |  Test Loss  :  0.2831007242202759\n",
      " 139  /  200  :     Train Loss   0.22259223461151123    |  Test Loss  :  0.28173115849494934\n",
      " 140  /  200  :     Train Loss   0.22152826189994812    |  Test Loss  :  0.2804866135120392\n",
      " 141  /  200  :     Train Loss    0.2204926460981369    |  Test Loss  :  0.2791796922683716\n",
      " 142  /  200  :     Train Loss    0.2194843590259552    |  Test Loss  :  0.2778710424900055\n",
      " 143  /  200  :     Train Loss   0.21850240230560303    |  Test Loss  :  0.2766435742378235\n",
      " 144  /  200  :     Train Loss   0.21754597127437592    |  Test Loss  :  0.27529019117355347\n",
      " 145  /  200  :     Train Loss   0.21661412715911865    |  Test Loss  :  0.27416324615478516\n",
      " 146  /  200  :     Train Loss     0.215706005692482    |  Test Loss  :  0.27273938059806824\n",
      " 147  /  200  :     Train Loss   0.21482086181640625    |  Test Loss  :  0.27182742953300476\n",
      " 148  /  200  :     Train Loss   0.21395786106586456    |  Test Loss  :  0.2701343297958374\n",
      " 149  /  200  :     Train Loss   0.21311646699905396    |  Test Loss  :  0.269889235496521\n",
      " 150  /  200  :     Train Loss    0.2122967690229416    |  Test Loss  :  0.26705580949783325\n",
      " 151  /  200  :     Train Loss   0.21150119602680206    |  Test Loss  :  0.26936519145965576\n",
      " 152  /  200  :     Train Loss   0.21074405312538147    |  Test Loss  :  0.2621304392814636\n",
      " 153  /  200  :     Train Loss   0.21005085110664368    |  Test Loss  :  0.2720089256763458\n",
      " 154  /  200  :     Train Loss   0.20949587225914001    |  Test Loss  :  0.2590863108634949\n",
      " 155  /  200  :     Train Loss    0.2086503803730011    |  Test Loss  :  0.2650911509990692\n",
      " 156  /  200  :     Train Loss    0.2077861875295639    |  Test Loss  :  0.2648845613002777\n",
      " 157  /  200  :     Train Loss    0.2071087807416916    |  Test Loss  :  0.2571597397327423\n",
      " 158  /  200  :     Train Loss    0.2065242975950241    |  Test Loss  :  0.26478609442710876\n",
      " 159  /  200  :     Train Loss    0.2058224231004715    |  Test Loss  :  0.2603883445262909\n",
      " 160  /  200  :     Train Loss   0.20507784187793732    |  Test Loss  :  0.2554475665092468\n",
      " 161  /  200  :     Train Loss   0.20454277098178864    |  Test Loss  :  0.2633897066116333\n",
      " 162  /  200  :     Train Loss   0.20394884049892426    |  Test Loss  :  0.257661372423172\n",
      " 163  /  200  :     Train Loss   0.20320932567119598    |  Test Loss  :  0.2535191476345062\n",
      " 164  /  200  :     Train Loss    0.2027077078819275    |  Test Loss  :  0.2616492807865143\n",
      " 165  /  200  :     Train Loss   0.20216239988803864    |  Test Loss  :  0.2559742331504822\n",
      " 166  /  200  :     Train Loss    0.2014516294002533    |  Test Loss  :  0.2513817548751831\n",
      " 167  /  200  :     Train Loss   0.20100082457065582    |  Test Loss  :  0.2598271369934082\n",
      " 168  /  200  :     Train Loss   0.20046670734882355    |  Test Loss  :  0.25492948293685913\n",
      " 169  /  200  :     Train Loss   0.19979599118232727    |  Test Loss  :  0.2491939812898636\n",
      " 170  /  200  :     Train Loss   0.19940213859081268    |  Test Loss  :  0.2578281760215759\n",
      " 171  /  200  :     Train Loss     0.198850616812706    |  Test Loss  :  0.2542739808559418\n",
      " 172  /  200  :     Train Loss   0.19823987782001495    |  Test Loss  :  0.24727225303649902\n",
      " 173  /  200  :     Train Loss   0.19788073003292084    |  Test Loss  :  0.25536903738975525\n",
      " 174  /  200  :     Train Loss   0.19729892909526825    |  Test Loss  :  0.2537088692188263\n",
      " 175  /  200  :     Train Loss   0.19677487015724182    |  Test Loss  :  0.2460174560546875\n",
      " 176  /  200  :     Train Loss   0.19639885425567627    |  Test Loss  :  0.25230517983436584\n",
      " 177  /  200  :     Train Loss    0.1958153396844864    |  Test Loss  :  0.25284525752067566\n",
      " 178  /  200  :     Train Loss   0.19537994265556335    |  Test Loss  :  0.24559304118156433\n",
      " 179  /  200  :     Train Loss    0.1949491798877716    |  Test Loss  :  0.2489551454782486\n",
      " 180  /  200  :     Train Loss    0.1944226324558258    |  Test Loss  :  0.25145986676216125\n",
      " 181  /  200  :     Train Loss   0.19403356313705444    |  Test Loss  :  0.24565698206424713\n",
      " 182  /  200  :     Train Loss   0.19356583058834076    |  Test Loss  :  0.2459087073802948\n",
      " 183  /  200  :     Train Loss   0.19312037527561188    |  Test Loss  :  0.24961315095424652\n",
      " 184  /  200  :     Train Loss    0.1927289068698883    |  Test Loss  :  0.2456602156162262\n",
      " 185  /  200  :     Train Loss   0.19226762652397156    |  Test Loss  :  0.24352505803108215\n",
      " 186  /  200  :     Train Loss   0.19187749922275543    |  Test Loss  :  0.24747338891029358\n",
      " 187  /  200  :     Train Loss    0.1914680302143097    |  Test Loss  :  0.24527858197689056\n",
      " 188  /  200  :     Train Loss    0.1910391002893448    |  Test Loss  :  0.24182066321372986\n",
      " 189  /  200  :     Train Loss   0.19066862761974335    |  Test Loss  :  0.24520160257816315\n",
      " 190  /  200  :     Train Loss     0.190252885222435    |  Test Loss  :  0.24446582794189453\n",
      " 191  /  200  :     Train Loss   0.18985828757286072    |  Test Loss  :  0.24062563478946686\n",
      " 192  /  200  :     Train Loss   0.18948784470558167    |  Test Loss  :  0.24295976758003235\n",
      " 193  /  200  :     Train Loss    0.1890825480222702    |  Test Loss  :  0.24331022799015045\n",
      " 194  /  200  :     Train Loss   0.18871167302131653    |  Test Loss  :  0.23971250653266907\n",
      " 195  /  200  :     Train Loss   0.18833820521831512    |  Test Loss  :  0.2408822476863861\n",
      " 196  /  200  :     Train Loss    0.1879516839981079    |  Test Loss  :  0.2419327050447464\n",
      " 197  /  200  :     Train Loss   0.18759320676326752    |  Test Loss  :  0.23888865113258362\n",
      " 198  /  200  :     Train Loss    0.1872212439775467    |  Test Loss  :  0.23903244733810425\n",
      " 199  /  200  :     Train Loss   0.18685287237167358    |  Test Loss  :  0.24043601751327515\n",
      " 200  /  200  :     Train Loss    0.1864999681711197    |  Test Loss  :  0.2380264401435852\n"
     ]
    }
   ],
   "source": [
    "all_train_losses, all_test_losses, accuracies = [], [], []\n",
    "\n",
    "torch.manual_seed(28)\n",
    "\n",
    "for it in range(200): \n",
    "    optimizer.zero_grad()\n",
    "    prediction = model.forward(x_train)\n",
    "    train_loss = criterion(prediction, y_train)\n",
    "    train_loss.backward()\n",
    "    optimizer.step()\n",
    "    all_train_losses.append(train_loss.item())\n",
    "\n",
    "    model.eval()\n",
    "    with torch.no_grad():\n",
    "        test_prediction = model.forward(x_test)\n",
    "        test_loss = criterion(test_prediction, y_test)\n",
    "        result = test_prediction > 0.5\n",
    "        # print(result)\n",
    "        accuracy = sum(result == y_test) / result.shape[0]\n",
    "    model.train()\n",
    "\n",
    "    all_test_losses.append(test_loss.item())\n",
    "    accuracies.append(accuracy)\n",
    "\n",
    "    print(f'{it + 1 :4}  /{200:5}  :     Train Loss  {train_loss.item():20}    |  Test Loss  :  {test_loss.item()}')"
   ]
  },
  {
   "attachments": {},
   "cell_type": "markdown",
   "metadata": {},
   "source": [
    "## Plot the Result"
   ]
  },
  {
   "cell_type": "code",
   "execution_count": 8,
   "metadata": {},
   "outputs": [
    {
     "name": "stderr",
     "output_type": "stream",
     "text": [
      "c:\\Users\\zorve\\anaconda3\\envs\\deeplearning\\lib\\site-packages\\numpy\\core\\shape_base.py:65: FutureWarning: The input object of type 'Tensor' is an array-like implementing one of the corresponding protocols (`__array__`, `__array_interface__` or `__array_struct__`); but not a sequence (or 0-D). In the future, this object will be coerced as if it was first converted using `np.array(obj)`. To retain the old behaviour, you have to either modify the type 'Tensor', or assign to an empty array created with `np.empty(correct_shape, dtype=object)`.\n",
      "  ary = asanyarray(ary)\n",
      "c:\\Users\\zorve\\anaconda3\\envs\\deeplearning\\lib\\site-packages\\numpy\\core\\shape_base.py:65: VisibleDeprecationWarning: Creating an ndarray from ragged nested sequences (which is a list-or-tuple of lists-or-tuples-or ndarrays with different lengths or shapes) is deprecated. If you meant to do this, you must specify 'dtype=object' when creating the ndarray.\n",
      "  ary = asanyarray(ary)\n"
     ]
    },
    {
     "data": {
      "image/png": "[encoded data removed]",
      "text/plain": [
       "<Figure size 640x480 with 1 Axes>"
      ]
     },
     "metadata": {},
     "output_type": "display_data"
    }
   ],
   "source": [
    "plt.plot(all_train_losses, label='train loss')\n",
    "plt.plot(all_test_losses, label='test train')\n",
    "plt.plot(accuracies, label='accuracy')\n",
    "plt.legend()\n",
    "plt.show()"
   ]
  },
  {
   "attachments": {},
   "cell_type": "markdown",
   "metadata": {},
   "source": [
    "## Make Prediction"
   ]
  },
  {
   "cell_type": "code",
   "execution_count": 9,
   "metadata": {},
   "outputs": [
    {
     "name": "stdout",
     "output_type": "stream",
     "text": [
      "Prediction :   tensor([0.0787], grad_fn=<SigmoidBackward0>)\n"
     ]
    },
    {
     "name": "stderr",
     "output_type": "stream",
     "text": [
      "C:\\Users\\zorve\\AppData\\Local\\Temp\\ipykernel_17004\\2507706071.py:20: UserWarning: Implicit dimension choice for softmax has been deprecated. Change the call to include dim=X as an argument.\n",
      "  x = self.softmax(x)\n"
     ]
    }
   ],
   "source": [
    "practice = torch.tensor([2, 3]).float()\n",
    "print('Prediction :  ', model.forward(practice))"
   ]
  }
 ],
 "metadata": {
  "kernelspec": {
   "display_name": "deeplearning",
   "language": "python",
   "name": "python3"
  },
  "language_info": {
   "codemirror_mode": {
    "name": "ipython",
    "version": 3
   },
   "file_extension": ".py",
   "mimetype": "text/x-python",
   "name": "python",
   "nbconvert_exporter": "python",
   "pygments_lexer": "ipython3",
   "version": "3.8.13"
  },
  "orig_nbformat": 4
 },
 "nbformat": 4,
 "nbformat_minor": 2
}
